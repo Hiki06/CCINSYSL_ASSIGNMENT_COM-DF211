{
  "cells": [
    {
      "cell_type": "markdown",
      "metadata": {
        "id": "view-in-github",
        "colab_type": "text"
      },
      "source": [
        "<a href=\"https://colab.research.google.com/github/Hikiiiiiiii/CCINSYSL_ASSIGNMENT_COM-DF211/blob/main/Week2_Exercise_Machine_Learning_Algorithm.ipynb\" target=\"_parent\"><img src=\"https://colab.research.google.com/assets/colab-badge.svg\" alt=\"Open In Colab\"/></a>"
      ]
    },
    {
      "cell_type": "markdown",
      "metadata": {
        "id": "GBxi4CrfzeYk"
      },
      "source": [
        "# Exercise 1\n",
        "\n",
        "Learning through data"
      ]
    },
    {
      "cell_type": "markdown",
      "metadata": {
        "id": "TGoRtGThzeYm"
      },
      "source": [
        "1. Find the function **f(x)**  \n",
        "\n",
        "| Input  | CAT | DOG | APPLE | BANANA | ORANGE |  \n",
        "| --- | --- | --- | --- | --- | --- |\n",
        "| Output | cat | dog | apple | banana | orange\n"
      ]
    },
    {
      "cell_type": "code",
      "execution_count": null,
      "metadata": {
        "id": "qVeYW_ypzeYn",
        "colab": {
          "base_uri": "https://localhost:8080/"
        },
        "outputId": "814849b8-ce4b-4365-ca47-f8414b1887b1"
      },
      "outputs": [
        {
          "output_type": "stream",
          "name": "stdout",
          "text": [
            "Enter a word: ORANGE\n",
            "orange\n"
          ]
        }
      ],
      "source": [
        "# Answer here\n",
        "def toLowerCase(x):\n",
        "    answer = x.lower()\n",
        "    print(answer)\n",
        "\n",
        "x = input(\"Enter a word: \")\n",
        "toLowerCase(x)"
      ]
    },
    {
      "cell_type": "markdown",
      "metadata": {
        "id": "ljHhD6M1zeYn"
      },
      "source": [
        "2. Find the function **f(x)**  \n",
        "\n",
        "| Input  | CAT | DOG | APPLE | BANANA | ORANGE |  \n",
        "| --- | --- | --- | --- | --- | --- |\n",
        "| Output | CT | DG | PPL | BNN | RNG\n"
      ]
    },
    {
      "cell_type": "code",
      "execution_count": null,
      "metadata": {
        "id": "O1IYoTnrzeYo",
        "colab": {
          "base_uri": "https://localhost:8080/"
        },
        "outputId": "b7b3ae14-8280-4d37-b91f-93459c0d883c"
      },
      "outputs": [
        {
          "output_type": "stream",
          "name": "stdout",
          "text": [
            "Enter a word: BANANA\n",
            "BNN\n"
          ]
        }
      ],
      "source": [
        "# Answer here\n",
        "def deleteVowel(x):\n",
        "    for i in \"aeiouAEIOU\":\n",
        "        x = x.replace(i, \"\")\n",
        "    return x\n",
        "\n",
        "x = input(\"Enter a word: \")\n",
        "print(deleteVowel(x))\n"
      ]
    },
    {
      "cell_type": "markdown",
      "metadata": {
        "id": "jRfDgREezeYo"
      },
      "source": [
        "3. Find the function **f(x)**  \n",
        "\n",
        "| Input  | CAT | DOG | APPLE | BANANA | ORANGE |  \n",
        "| --- | --- | --- | --- | --- | --- |\n",
        "| Output | TAC | GOD | ELPPA | ANANAB | EGNARO\n"
      ]
    },
    {
      "cell_type": "code",
      "execution_count": null,
      "metadata": {
        "id": "xplN1Wi9zeYp",
        "colab": {
          "base_uri": "https://localhost:8080/"
        },
        "outputId": "8116d9b1-cfa0-437a-f961-a71391ad30e3"
      },
      "outputs": [
        {
          "output_type": "stream",
          "name": "stdout",
          "text": [
            "Enter a word: ORANGE\n",
            "EGNARO\n"
          ]
        }
      ],
      "source": [
        "# Answer here\n",
        "def reverseString(x):\n",
        "    return x[::-1]\n",
        "\n",
        "\n",
        "x = input(\"Enter a word: \")\n",
        "print(reverseString(x))\n",
        "\n"
      ]
    },
    {
      "cell_type": "markdown",
      "metadata": {
        "id": "k4JMcMspzeYp"
      },
      "source": [
        "4. Find the function **f(x)**  \n",
        "\n",
        "| Input  | 2 | 3 | 4 | 5 | 6 |  \n",
        "| --- | --- | --- | --- | --- | --- |\n",
        "| Output | 4 | 9 | 16 | 25 | 36\n"
      ]
    },
    {
      "cell_type": "code",
      "execution_count": null,
      "metadata": {
        "id": "dZrQ2PYVzeYp",
        "colab": {
          "base_uri": "https://localhost:8080/"
        },
        "outputId": "0ac75806-c4fb-4446-fcd7-c60854bba1fe"
      },
      "outputs": [
        {
          "output_type": "stream",
          "name": "stdout",
          "text": [
            "Enter a number: 5\n",
            "25\n"
          ]
        }
      ],
      "source": [
        "# Answer here\n",
        "def isSquareRoot(x):\n",
        "    answer = x * x\n",
        "    return answer\n",
        "\n",
        "x = int(input(\"Enter a number: \"))\n",
        "print(isSquareRoot(x))\n"
      ]
    },
    {
      "cell_type": "markdown",
      "metadata": {
        "id": "6DonFwqSzeYq"
      },
      "source": [
        "5. Find the function **f(x)**  \n",
        "\n",
        "| Input  | 64 | 27 | 1000 | 729 | 512 |  \n",
        "| --- | --- | --- | --- | --- | --- |\n",
        "| Output | 4 | 3 | 10 | 9 | 8"
      ]
    },
    {
      "cell_type": "code",
      "execution_count": 3,
      "metadata": {
        "id": "EgBiiHMozeYq",
        "colab": {
          "base_uri": "https://localhost:8080/"
        },
        "outputId": "8f2f2f65-4a14-44e4-8e13-1f22350bc7ca"
      },
      "outputs": [
        {
          "output_type": "stream",
          "name": "stdout",
          "text": [
            "Enter a number: 64\n",
            "4\n"
          ]
        }
      ],
      "source": [
        "# Answer here\n",
        "from decimal import Decimal\n",
        "\n",
        "def isCubicRoot(x):\n",
        "    answer = x ** (1 / 3)\n",
        "    return answer\n",
        "\n",
        "x = int(input(\"Enter a number: \"))\n",
        "result = isCubicRoot(x)\n",
        "rounded_result = round(result)\n",
        "print(rounded_result)\n",
        "\n"
      ]
    },
    {
      "cell_type": "code",
      "source": [
        ")"
      ],
      "metadata": {
        "id": "Hdr1MbH2SIvW"
      },
      "execution_count": null,
      "outputs": []
    }
  ],
  "metadata": {
    "kernelspec": {
      "display_name": "myenvironment",
      "language": "python",
      "name": "python3"
    },
    "language_info": {
      "codemirror_mode": {
        "name": "ipython",
        "version": 3
      },
      "file_extension": ".py",
      "mimetype": "text/x-python",
      "name": "python",
      "nbconvert_exporter": "python",
      "pygments_lexer": "ipython3",
      "version": "3.9.17"
    },
    "orig_nbformat": 4,
    "colab": {
      "provenance": [],
      "include_colab_link": true
    }
  },
  "nbformat": 4,
  "nbformat_minor": 0
}